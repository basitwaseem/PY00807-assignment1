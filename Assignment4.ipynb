{
 "cells": [
  {
   "cell_type": "markdown",
   "metadata": {},
   "source": [
    "# ASSIGNMENT NO 4"
   ]
  },
  {
   "cell_type": "markdown",
   "metadata": {},
   "source": [
    "QUESTION NO 1:"
   ]
  },
  {
   "cell_type": "code",
   "execution_count": 1,
   "metadata": {},
   "outputs": [
    {
     "name": "stdout",
     "output_type": "stream",
     "text": [
      "Basit\n",
      "Waseem\n",
      "25\n",
      "Karachi\n"
     ]
    }
   ],
   "source": [
    "person = {\n",
    "    'first_name': 'Basit',\n",
    "    'last_name': 'Waseem',\n",
    "    'age': 25,\n",
    "    'city': 'Karachi',\n",
    "    }\n",
    "\n",
    "print(person['first_name'])\n",
    "print(person['last_name'])\n",
    "print(person['age'])\n",
    "print(person['city'])"
   ]
  },
  {
   "cell_type": "code",
   "execution_count": 16,
   "metadata": {},
   "outputs": [
    {
     "name": "stdout",
     "output_type": "stream",
     "text": [
      "{'first_name': 'Basit', 'last_name': 'Waseem', 'age': 25, 'city': 'Karachi', 'qualification': 'BS Software Engineering'}\n"
     ]
    }
   ],
   "source": [
    "person['qualification'] = 'BS Software Engineering'\n",
    "print(person)"
   ]
  },
  {
   "cell_type": "code",
   "execution_count": 17,
   "metadata": {},
   "outputs": [
    {
     "name": "stdout",
     "output_type": "stream",
     "text": [
      "first_name Basit\n",
      "last_name Waseem\n",
      "age 25\n",
      "city Karachi\n",
      "qualification BS Software Engineering\n",
      "first_name Basit\n",
      "last_name Waseem\n",
      "age 25\n",
      "city Karachi\n",
      "high academic level BS Software Engineering\n"
     ]
    },
    {
     "data": {
      "text/plain": [
       "{'first_name': 'Basit',\n",
       " 'last_name': 'Waseem',\n",
       " 'age': 25,\n",
       " 'city': 'Karachi',\n",
       " 'high academic level': 'BS Software Engineering'}"
      ]
     },
     "execution_count": 17,
     "metadata": {},
     "output_type": "execute_result"
    }
   ],
   "source": [
    "import sys\n",
    "for k, v in person.items():\n",
    "    print(k, v)\n",
    "\n",
    "def renameKey(iterable, oldkey, newKey):\n",
    "    if type(iterable) is dict:\n",
    "        for key in iterable.keys():\n",
    "            if key == oldkey:\n",
    "                iterable[newKey] = iterable.pop(key)\n",
    "    return iterable\n",
    "\n",
    "person = renameKey(person, 'qualification', 'high academic level')\n",
    "\n",
    "for k, v in person.items():\n",
    "    print(k, v)\n",
    "person"
   ]
  },
  {
   "cell_type": "code",
   "execution_count": 18,
   "metadata": {},
   "outputs": [
    {
     "data": {
      "text/plain": [
       "{'first_name': 'Basit', 'last_name': 'Waseem', 'age': 25, 'city': 'Karachi'}"
      ]
     },
     "execution_count": 18,
     "metadata": {},
     "output_type": "execute_result"
    }
   ],
   "source": [
    "del person['high academic level']\n",
    "person"
   ]
  },
  {
   "cell_type": "markdown",
   "metadata": {},
   "source": [
    "QUESTION NO 2:"
   ]
  },
  {
   "cell_type": "code",
   "execution_count": 19,
   "metadata": {},
   "outputs": [
    {
     "name": "stdout",
     "output_type": "stream",
     "text": [
      "\n",
      "Santiago is in Chile.\n",
      "  It has a population of about 6158080.\n",
      "  The Andes mountains are nearby.\n",
      "\n",
      "Talkeetna is in Alaska.\n",
      "  It has a population of about 876.\n",
      "  The Alaska Range mountains are nearby.\n",
      "\n",
      "Kathmandu is in Nepal.\n",
      "  It has a population of about 1003285.\n",
      "  The Himilaya mountains are nearby.\n"
     ]
    }
   ],
   "source": [
    "cities = {\n",
    "    'santiago': {\n",
    "        'country': 'chile',\n",
    "        'population': 6158080,\n",
    "        'nearby mountains': 'andes',\n",
    "        },\n",
    "    'talkeetna': {\n",
    "        'country': 'alaska',\n",
    "        'population': 876,\n",
    "        'nearby mountains': 'alaska range',\n",
    "        },\n",
    "    'kathmandu': {\n",
    "        'country': 'nepal',\n",
    "        'population': 1003285,\n",
    "        'nearby mountains': 'himilaya',\n",
    "        }\n",
    "    }\n",
    "\n",
    "for city, city_info in cities.items():\n",
    "    country = city_info['country'].title()\n",
    "    population = city_info['population']\n",
    "    mountains = city_info['nearby mountains'].title()\n",
    "\n",
    "    print(\"\\n\" + city.title() + \" is in \" + country + \".\")\n",
    "    print(\"  It has a population of about \" + str(population) + \".\")\n",
    "    print(\"  The \" + mountains + \" mountains are nearby.\")"
   ]
  },
  {
   "cell_type": "markdown",
   "metadata": {},
   "source": [
    "QUESTION NO 3:"
   ]
  },
  {
   "cell_type": "code",
   "execution_count": 20,
   "metadata": {},
   "outputs": [
    {
     "name": "stdout",
     "output_type": "stream",
     "text": [
      "How old are you?\n",
      "Enter 'quit' when you are finished. 3\n",
      "  Your ticket is $10.\n",
      "How old are you?\n",
      "Enter 'quit' when you are finished. 13\n",
      "  Your ticket is $15.\n",
      "How old are you?\n",
      "Enter 'quit' when you are finished. 12\n",
      "  Your ticket is $10.\n",
      "How old are you?\n",
      "Enter 'quit' when you are finished. 2\n",
      "  You get in free!\n",
      "How old are you?\n",
      "Enter 'quit' when you are finished. quit\n"
     ]
    }
   ],
   "source": [
    "x = \"How old are you?\"\n",
    "x += \"\\nEnter 'quit' when you are finished. \"\n",
    "\n",
    "while True:\n",
    "    age = input(x)\n",
    "    if age == 'quit':\n",
    "        break\n",
    "    age = int(age)\n",
    "\n",
    "    if age < 3:\n",
    "        print(\"  You get in free!\")\n",
    "    elif age < 13:\n",
    "        print(\"  Your ticket is $10.\")\n",
    "    else:\n",
    "        print(\"  Your ticket is $15.\")"
   ]
  },
  {
   "cell_type": "markdown",
   "metadata": {},
   "source": [
    "QUESTION NO 4:"
   ]
  },
  {
   "cell_type": "code",
   "execution_count": 22,
   "metadata": {},
   "outputs": [
    {
     "name": "stdout",
     "output_type": "stream",
     "text": [
      "One of my favorite books is The Abstract Wild.\n"
     ]
    }
   ],
   "source": [
    "def favorite_book(title):\n",
    "    \"\"\"Display a message about someone's favorite book.\"\"\"\n",
    "    print(\"One of my favorite books is \" + title + \".\")\n",
    "\n",
    "favorite_book('The Abstract Wild')"
   ]
  },
  {
   "cell_type": "markdown",
   "metadata": {},
   "source": [
    "QUESTION NO 5:"
   ]
  },
  {
   "cell_type": "code",
   "execution_count": 30,
   "metadata": {},
   "outputs": [
    {
     "name": "stdout",
     "output_type": "stream",
     "text": [
      "Hello! What is your name?\n",
      "Basit Waseem\n",
      "Well, Basit Waseem, I am thinking of a number between 1 and 30.\n",
      "Take a guess.\n",
      "3\n",
      "Your guess is too low.\n",
      "Take a guess.\n",
      "17\n",
      "Your guess is too high.\n",
      "Take a guess.\n",
      "16\n",
      "Good job, Basit Waseem! You guessed my number in 3 guesses!\n"
     ]
    }
   ],
   "source": [
    "import random\n",
    "\n",
    "\n",
    "guessesTaken = 0\n",
    "print('Hello! What is your name?')\n",
    "myName = input()\n",
    "\n",
    "number = random.randint(1, 30)\n",
    "\n",
    "print('Well, ' + myName + ', I am thinking of a number between 1 and 30.')\n",
    "\n",
    "while guessesTaken < 6:\n",
    "\n",
    "    print('Take a guess.') # There are four spaces in front of print.\n",
    "    guess = input()\n",
    "    guess = int(guess)\n",
    "    guessesTaken = guessesTaken + 1\n",
    "    if guess < number:\n",
    "        print('Your guess is too low.') # There are eight spaces in front of print.\n",
    "    if guess > number:\n",
    "        print('Your guess is too high.')\n",
    "    if guess == number:\n",
    "        break\n",
    "            \n",
    "            \n",
    "if guess == number:\n",
    "    guessesTaken = str(guessesTaken)\n",
    "    print('Good job, ' + myName + '! You guessed my number in ' + guessesTaken + ' guesses!')\n",
    "if guess != number:\n",
    "    number = str(number)\n",
    "    print('Nope. The number I was thinking of was ' + number)"
   ]
  },
  {
   "cell_type": "code",
   "execution_count": null,
   "metadata": {},
   "outputs": [],
   "source": []
  }
 ],
 "metadata": {
  "kernelspec": {
   "display_name": "Python 3",
   "language": "python",
   "name": "python3"
  },
  "language_info": {
   "codemirror_mode": {
    "name": "ipython",
    "version": 3
   },
   "file_extension": ".py",
   "mimetype": "text/x-python",
   "name": "python",
   "nbconvert_exporter": "python",
   "pygments_lexer": "ipython3",
   "version": "3.7.3"
  }
 },
 "nbformat": 4,
 "nbformat_minor": 2
}
