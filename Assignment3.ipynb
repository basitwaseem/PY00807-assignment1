{
 "cells": [
  {
   "cell_type": "markdown",
   "metadata": {},
   "source": [
    "# ASSIGNMENT NO 3"
   ]
  },
  {
   "cell_type": "markdown",
   "metadata": {},
   "source": [
    "QUESTION NO 1:"
   ]
  },
  {
   "cell_type": "code",
   "execution_count": 6,
   "metadata": {},
   "outputs": [
    {
     "name": "stdout",
     "output_type": "stream",
     "text": [
      "Select operation.\n",
      "1.Add\n",
      "2.Subtract\n",
      "3.Multiply\n",
      "4.Divide\n",
      "5.Power\n",
      "Enter choice(1/2/3/4/5): 5\n",
      "Enter first number: 2\n",
      "Enter second number: 3\n",
      "2.0 ** 3.0 = 8.0\n"
     ]
    }
   ],
   "source": [
    "# Program make a simple calculator\n",
    "# This function adds two numbers \n",
    "def add(x, y):\n",
    "   return x + y\n",
    "# This function subtracts two numbers \n",
    "def subtract(x, y):\n",
    "   return x - y\n",
    "# This function multiplies two numbers\n",
    "def multiply(x, y):\n",
    "   return x * y\n",
    "# This function divides two numbers\n",
    "def divide(x, y):\n",
    "   return x / y\n",
    "# This function powers two numbers\n",
    "def power(x, y):\n",
    "   return x ** y\n",
    "\n",
    "print(\"Select operation.\")\n",
    "print(\"1.Add\")\n",
    "print(\"2.Subtract\")\n",
    "print(\"3.Multiply\")\n",
    "print(\"4.Divide\")\n",
    "print(\"5.Power\")\n",
    "\n",
    "# Take input from the user \n",
    "choice = input(\"Enter choice(1/2/3/4/5): \")\n",
    "num1 = float(input(\"Enter first number: \"))\n",
    "num2 = float(input(\"Enter second number: \"))\n",
    "if choice == '1':\n",
    "   print(num1,\"+\",num2,\"=\", add(num1,num2))\n",
    "elif choice == '2':\n",
    "   print(num1,\"-\",num2,\"=\", subtract(num1,num2))\n",
    "elif choice == '3':\n",
    "   print(num1,\"*\",num2,\"=\", multiply(num1,num2))\n",
    "elif choice == '4':\n",
    "   print(num1,\"/\",num2,\"=\", divide(num1,num2))\n",
    "elif choice == '5':\n",
    "   print(num1,\"**\",num2,\"=\", power(num1,num2))\n",
    "else:\n",
    "   print(\"Invalid input\")"
   ]
  },
  {
   "cell_type": "markdown",
   "metadata": {},
   "source": [
    "QUESTION NO 2:"
   ]
  },
  {
   "cell_type": "code",
   "execution_count": 9,
   "metadata": {},
   "outputs": [
    {
     "name": "stdout",
     "output_type": "stream",
     "text": [
      "Checking if 4 exists in list ( using loop ) : \n",
      "Element Exists\n"
     ]
    }
   ],
   "source": [
    "test_list = [ 1, 6, 3, 5, 3, 4 ] \n",
    "  \n",
    "print(\"Checking if 4 exists in list ( using loop ) : \") \n",
    "  \n",
    "# Checking if 4 exists in list  \n",
    "# using loop \n",
    "for i in test_list: \n",
    "    if(i == 4) : \n",
    "        print (\"Element Exists\")"
   ]
  },
  {
   "cell_type": "markdown",
   "metadata": {},
   "source": [
    "QUESTION NO 3:"
   ]
  },
  {
   "cell_type": "code",
   "execution_count": 10,
   "metadata": {},
   "outputs": [
    {
     "name": "stdout",
     "output_type": "stream",
     "text": [
      "{0: 10, 1: 20}\n",
      "{0: 10, 1: 20, 2: 30}\n"
     ]
    }
   ],
   "source": [
    "d = {0:10, 1:20}\n",
    "print(d)\n",
    "d.update({2:30})\n",
    "print(d)"
   ]
  },
  {
   "cell_type": "markdown",
   "metadata": {},
   "source": [
    "QUESTION NO 4:"
   ]
  },
  {
   "cell_type": "code",
   "execution_count": 12,
   "metadata": {},
   "outputs": [
    {
     "name": "stdout",
     "output_type": "stream",
     "text": [
      "Sum : 146\n"
     ]
    }
   ],
   "source": [
    "def returnSum(myDict): \n",
    "      \n",
    "    sum = 0\n",
    "    for i in myDict: \n",
    "        sum = sum + myDict[i] \n",
    "      \n",
    "    return sum\n",
    "   \n",
    "dict = {'a': 22, 'b':35, 'c':89} \n",
    "print(\"Sum :\", returnSum(dict)) "
   ]
  },
  {
   "cell_type": "markdown",
   "metadata": {},
   "source": [
    "QUESTION NO 5:"
   ]
  },
  {
   "cell_type": "code",
   "execution_count": 13,
   "metadata": {},
   "outputs": [
    {
     "name": "stdout",
     "output_type": "stream",
     "text": [
      "[10, 20, 30, 40, 50]\n"
     ]
    }
   ],
   "source": [
    "def unique_list(list):\n",
    "    uniq_list = []\n",
    "    uniq_set = set()\n",
    "    for item in list:\n",
    "       if item not in uniq_set:\n",
    "            uniq_list.append(item)\n",
    "            uniq_set.add(item)\n",
    "    return uniq_list\n",
    " \n",
    "list = [10,20,30,10,10,30,40,50]\n",
    "print(unique_list(list))"
   ]
  },
  {
   "cell_type": "markdown",
   "metadata": {},
   "source": [
    "QUESTION NO 6:"
   ]
  },
  {
   "cell_type": "code",
   "execution_count": 14,
   "metadata": {},
   "outputs": [
    {
     "name": "stdout",
     "output_type": "stream",
     "text": [
      "Present,  value = 200\n",
      "Not present\n"
     ]
    }
   ],
   "source": [
    "def checkKey(dict, key): \n",
    "      \n",
    "    if key in dict.keys(): \n",
    "        print(\"Present, \", end =\" \") \n",
    "        print(\"value =\", dict[key]) \n",
    "    else: \n",
    "        print(\"Not present\") \n",
    "  \n",
    "\n",
    "dict = {'a': 100, 'b':200, 'c':300} \n",
    "  \n",
    "key = 'b'\n",
    "checkKey(dict, key) \n",
    "  \n",
    "key = 'w'\n",
    "checkKey(dict, key)"
   ]
  },
  {
   "cell_type": "code",
   "execution_count": null,
   "metadata": {},
   "outputs": [],
   "source": []
  }
 ],
 "metadata": {
  "kernelspec": {
   "display_name": "Python 3",
   "language": "python",
   "name": "python3"
  },
  "language_info": {
   "codemirror_mode": {
    "name": "ipython",
    "version": 3
   },
   "file_extension": ".py",
   "mimetype": "text/x-python",
   "name": "python",
   "nbconvert_exporter": "python",
   "pygments_lexer": "ipython3",
   "version": "3.7.4"
  }
 },
 "nbformat": 4,
 "nbformat_minor": 2
}
