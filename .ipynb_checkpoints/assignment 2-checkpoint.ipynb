{
 "cells": [
  {
   "cell_type": "markdown",
   "metadata": {},
   "source": [
    "# ASSIGNMENT 2"
   ]
  },
  {
   "cell_type": "markdown",
   "metadata": {},
   "source": [
    "QUESTION NO 1:"
   ]
  },
  {
   "cell_type": "code",
   "execution_count": 3,
   "metadata": {},
   "outputs": [
    {
     "name": "stdout",
     "output_type": "stream",
     "text": [
      "Enter marks of the first subject:95\n",
      "Enter marks of the second subject:76\n",
      "Enter marks of the second subject:83\n",
      "Enter marks of the fourth subject:64\n",
      "Enter marks of the fifth subject:59\n",
      "Grade: B\n"
     ]
    }
   ],
   "source": [
    "sub1 = int(input(\"Enter marks of the first subject:\"))\n",
    "sub2 = int(input(\"Enter marks of the second subject:\"))\n",
    "sub3 = int(input(\"Enter marks of the second subject:\"))\n",
    "sub4 = int(input(\"Enter marks of the fourth subject:\"))\n",
    "sub5 = int(input(\"Enter marks of the fifth subject:\"))\n",
    "\n",
    "sum = sub1 + sub2 + sub3 + sub4 + sub5\n",
    "\n",
    "avg = sum / 5\n",
    "\n",
    "if(avg>=90):\n",
    "    print(\"Grade: A+\")\n",
    "elif(avg<90 and avg>=80):\n",
    "    print(\"Grade: A\")\n",
    "elif(avg<80 and avg>=70):\n",
    "    print(\"Grade: B\")\n",
    "elif(avg<70 and avg>=60):\n",
    "    print(\"Grade: C\")\n",
    "elif(avg<60 and avg>=50):\n",
    "    print(\"Grade: D\")\n",
    "else:\n",
    "    print(\"Grade: F\")\n",
    "    "
   ]
  },
  {
   "cell_type": "markdown",
   "metadata": {},
   "source": [
    "QUESTION NO 2:"
   ]
  },
  {
   "cell_type": "code",
   "execution_count": 5,
   "metadata": {},
   "outputs": [
    {
     "name": "stdout",
     "output_type": "stream",
     "text": [
      "Enter number:2\n",
      "2 is even number\n"
     ]
    }
   ],
   "source": [
    "x = int(input(\"Enter number:\"))\n",
    "\n",
    "if (x % 2 == 0):\n",
    "    print(\"{0} is even number\".format(x))\n",
    "else:\n",
    "    print(\"{0} is odd number\".format(x))\n"
   ]
  },
  {
   "cell_type": "markdown",
   "metadata": {},
   "source": [
    "QUESTION NO 3:"
   ]
  },
  {
   "cell_type": "code",
   "execution_count": 7,
   "metadata": {},
   "outputs": [
    {
     "name": "stdout",
     "output_type": "stream",
     "text": [
      "4\n"
     ]
    }
   ],
   "source": [
    "a = len([\"ahmed\", \"faraz\", \"nizam\", \"sumair\"])\n",
    "print(a)"
   ]
  },
  {
   "cell_type": "markdown",
   "metadata": {},
   "source": [
    "QUESTION NO 4:"
   ]
  },
  {
   "cell_type": "code",
   "execution_count": 8,
   "metadata": {},
   "outputs": [
    {
     "name": "stdout",
     "output_type": "stream",
     "text": [
      "The sum of all elements in list are: 144\n"
     ]
    }
   ],
   "source": [
    "total = 0\n",
    "\n",
    "a = [1, 5, 22, 45, 71]\n",
    "\n",
    "for b in range(0, len(a)):\n",
    "    total = total + a[b]\n",
    "    \n",
    "print(\"The sum of all elements in list are: {0}\".format(total))\n"
   ]
  },
  {
   "cell_type": "markdown",
   "metadata": {},
   "source": [
    "QUESTION NO 5:"
   ]
  },
  {
   "cell_type": "code",
   "execution_count": 14,
   "metadata": {},
   "outputs": [
    {
     "name": "stdout",
     "output_type": "stream",
     "text": [
      "The largest element is: 96\n"
     ]
    }
   ],
   "source": [
    "x = [22, 35, 96, 41, 23, 91]\n",
    "print(\"The largest element is:\", max(x))"
   ]
  },
  {
   "cell_type": "markdown",
   "metadata": {},
   "source": [
    "QUESTION NO 6:"
   ]
  },
  {
   "cell_type": "code",
   "execution_count": 26,
   "metadata": {},
   "outputs": [
    {
     "name": "stdout",
     "output_type": "stream",
     "text": [
      "[1, 1, 2, 3]\n"
     ]
    }
   ],
   "source": [
    "a = [1, 1, 2, 3, 5, 8, 13, 21, 34, 55, 89]\n",
    "\n",
    "x=[b for b in a if b < 5]\n",
    "print(x)"
   ]
  }
 ],
 "metadata": {
  "kernelspec": {
   "display_name": "Python 3",
   "language": "python",
   "name": "python3"
  },
  "language_info": {
   "codemirror_mode": {
    "name": "ipython",
    "version": 3
   },
   "file_extension": ".py",
   "mimetype": "text/x-python",
   "name": "python",
   "nbconvert_exporter": "python",
   "pygments_lexer": "ipython3",
   "version": "3.7.3"
  }
 },
 "nbformat": 4,
 "nbformat_minor": 2
}
